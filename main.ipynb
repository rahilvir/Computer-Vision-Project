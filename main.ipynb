{
  "nbformat": 4,
  "nbformat_minor": 0,
  "metadata": {
    "colab": {
      "provenance": [],
      "authorship_tag": "ABX9TyOcTpEIs6adYQ2FmBGSI/on",
      "include_colab_link": true
    },
    "kernelspec": {
      "name": "python3",
      "display_name": "Python 3"
    },
    "language_info": {
      "name": "python"
    }
  },
  "cells": [
    {
      "cell_type": "markdown",
      "metadata": {
        "id": "view-in-github",
        "colab_type": "text"
      },
      "source": [
        "<a href=\"https://colab.research.google.com/github/rahilvir/Computer-Vision-Project/blob/main/main.ipynb\" target=\"_parent\"><img src=\"https://colab.research.google.com/assets/colab-badge.svg\" alt=\"Open In Colab\"/></a>"
      ]
    },
    {
      "cell_type": "code",
      "execution_count": null,
      "metadata": {
        "id": "IXitXfaDKsTZ"
      },
      "outputs": [],
      "source": [
        "!pip install ultralytics"
      ]
    },
    {
      "cell_type": "code",
      "source": [
        "from google.colab import drive\n",
        "drive.mount('/content/drive')"
      ],
      "metadata": {
        "id": "WlK-uFBOKxK9"
      },
      "execution_count": null,
      "outputs": []
    },
    {
      "cell_type": "code",
      "source": [
        "# zip files were just much faster to uplaod to google drive\n",
        "!unzip /content/drive/MyDrive/data.zip"
      ],
      "metadata": {
        "id": "gDfBeYmZKz9V"
      },
      "execution_count": null,
      "outputs": []
    },
    {
      "cell_type": "code",
      "source": [
        "# this code made sure each class had the same number of images\n",
        "import os\n",
        "import random\n",
        "from pathlib import Path\n",
        "from collections import defaultdict\n",
        "\n",
        "def balance_classes(data_dir):\n",
        "    for split in [\"train\", \"val\"]:\n",
        "        split_dir = Path(data_dir) / split\n",
        "        class_counts = {}\n",
        "\n",
        "        #count images in each class folder\n",
        "        for class_dir in split_dir.iterdir():\n",
        "            if class_dir.is_dir():\n",
        "                class_counts[class_dir] = len(list(class_dir.glob(\"*.*\")))\n",
        "\n",
        "        # find minimum count\n",
        "        min_count = min(class_counts.values())\n",
        "        print(f\"Minimum image count in {split}: {min_count}\")\n",
        "\n",
        "        # balance each class\n",
        "        for class_dir, count in class_counts.items():\n",
        "            if count > min_count:\n",
        "                images = list(class_dir.glob(\"*.*\"))\n",
        "                random.shuffle(images)  # Shuffle to ensure random selection\n",
        "                for img in images[min_count:]:  # Keep only min_count images\n",
        "                    img.unlink()  # Delete the extra image file\n",
        "                print(f\"Reduced {class_dir} to {min_count} images\")\n",
        "\n",
        "data_path = '/content/data'\n",
        "balance_classes(data_path)"
      ],
      "metadata": {
        "id": "FD7B38lIK7O9"
      },
      "execution_count": null,
      "outputs": []
    },
    {
      "cell_type": "code",
      "source": [
        "from ultralytics import YOLO\n",
        "\n",
        "model = YOLO('content/yolo11x-cls.pt')\n",
        "\n",
        "model.train(data='data', epochs=10, imgsz=256) #image size is to make sure our individual images were of the same size as the rest of the dataset"
      ],
      "metadata": {
        "id": "56QWoO3CLWXp"
      },
      "execution_count": null,
      "outputs": []
    },
    {
      "cell_type": "code",
      "source": [
        "!zip -r runs.zip /content/runs #just to download our 'runs' folder from runtime\n",
        "from google.colab import files\n",
        "files.download('runs.zip')"
      ],
      "metadata": {
        "id": "iiEyHCp2L4p8"
      },
      "execution_count": null,
      "outputs": []
    },
    {
      "cell_type": "code",
      "source": [
        "model= YOLO('runs/classify/train/weights/best.pt')\n",
        "metrics = model.val()\n",
        "print(metrics)"
      ],
      "metadata": {
        "id": "Z-m_kkZmMBXQ"
      },
      "execution_count": null,
      "outputs": []
    },
    {
      "cell_type": "code",
      "source": [
        "# testing the model\n",
        "results=model('/content/data/test/Apple Scab/0261a6e4-21f8-481a-8827-b674e6955644___FREC_Scab 3055_270deg.JPG', save=True)\n",
        "for r in results:\n",
        "    print(r.probs)"
      ],
      "metadata": {
        "id": "tpD70RxEM9sc"
      },
      "execution_count": null,
      "outputs": []
    }
  ]
}